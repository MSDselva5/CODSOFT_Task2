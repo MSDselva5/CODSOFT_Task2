{
 "cells": [
  {
   "cell_type": "code",
   "execution_count": 2,
   "id": "720a40b1-02dc-485d-a09d-09c2835b0aad",
   "metadata": {},
   "outputs": [],
   "source": [
    "import pandas as pd\n",
    "import numpy as np\n",
    "from sklearn.preprocessing import StandardScaler, OneHotEncoder\n",
    "from sklearn.compose import ColumnTransformer\n",
    "from sklearn.ensemble import RandomForestClassifier\n",
    "from sklearn.linear_model import LogisticRegression\n",
    "from sklearn.tree import DecisionTreeClassifier\n",
    "from sklearn.metrics import accuracy_score, confusion_matrix\n",
    "import matplotlib.pyplot as plt\n",
    "import seaborn as sns\n",
    "from sklearn.pipeline import Pipeline\n",
    "from sklearn.model_selection import train_test_split"
   ]
  },
  {
   "cell_type": "code",
   "execution_count": 4,
   "id": "9f7096c5-dbac-47b3-9433-ae94cc6fb17f",
   "metadata": {},
   "outputs": [],
   "source": [
    "train_df = pd.read_csv('fraudtrain.csv')\n",
    "test_df = pd.read_csv('fraudtest.csv')"
   ]
  },
  {
   "cell_type": "code",
   "execution_count": 6,
   "id": "54e7d57d-68ee-4219-86b9-d776033510d8",
   "metadata": {},
   "outputs": [],
   "source": [
    "train_df['trans_date_trans_time'] = pd.to_datetime(train_df['trans_date_trans_time'])\n",
    "train_df['dob'] = pd.to_datetime(train_df['dob'])\n",
    "train_df['trans_date_trans_time'] = train_df['trans_date_trans_time'].astype(np.int64) // 10**9\n",
    "train_df['dob'] = train_df['dob'].astype(np.int64) // 10**9"
   ]
  },
  {
   "cell_type": "code",
   "execution_count": 8,
   "id": "5d838dc4-cf01-4d3a-99af-0f855bfed8cd",
   "metadata": {},
   "outputs": [],
   "source": [
    "test_df['trans_date_trans_time'] = pd.to_datetime(test_df['trans_date_trans_time'])\n",
    "test_df['dob'] = pd.to_datetime(test_df['dob'])\n",
    "test_df['trans_date_trans_time'] = test_df['trans_date_trans_time'].astype(np.int64) // 10**9\n",
    "test_df['dob'] = test_df['dob'].astype(np.int64) // 10**9"
   ]
  },
  {
   "cell_type": "code",
   "execution_count": 10,
   "id": "14b302db-43bf-4c3b-bf3b-a022f2e01a4a",
   "metadata": {},
   "outputs": [
    {
     "name": "stdout",
     "output_type": "stream",
     "text": [
      "Train columns: ['Unnamed: 0', 'trans_date_trans_time', 'cc_num', 'merchant', 'category', 'amt', 'first', 'last', 'gender', 'street', 'city', 'state', 'zip', 'lat', 'long', 'city_pop', 'job', 'dob', 'trans_num', 'unix_time', 'merch_lat', 'merch_long', 'is_fraud']\n",
      "Test columns: ['Unnamed: 0', 'trans_date_trans_time', 'cc_num', 'merchant', 'category', 'amt', 'first', 'last', 'gender', 'street', 'city', 'state', 'zip', 'lat', 'long', 'city_pop', 'job', 'dob', 'trans_num', 'unix_time', 'merch_lat', 'merch_long', 'is_fraud']\n"
     ]
    }
   ],
   "source": [
    "print(\"Train columns:\", train_df.columns.tolist())\n",
    "print(\"Test columns:\", test_df.columns.tolist())"
   ]
  },
  {
   "cell_type": "code",
   "execution_count": 12,
   "id": "53365596-42af-4501-a5fc-fd35351afe7a",
   "metadata": {},
   "outputs": [],
   "source": [
    "features_to_drop = ['is_fraud', 'cc_num', 'trans_num', 'zip']\n",
    "X_train = train_df.drop(columns=[col for col in features_to_drop if col in train_df.columns], errors='ignore')\n",
    "y_train = train_df['is_fraud']\n",
    "X_test = test_df.drop(columns=[col for col in features_to_drop if col in test_df.columns], errors='ignore')\n",
    "y_test = test_df['is_fraud']"
   ]
  },
  {
   "cell_type": "code",
   "execution_count": 14,
   "id": "c16c4768-eeb3-41fd-ba4c-0dbfc3fc17f4",
   "metadata": {},
   "outputs": [],
   "source": [
    "categorical_features = ['merchant', 'category', 'first', 'last', 'gender', 'street', 'city', 'state', 'job']\n",
    "numeric_features = ['trans_date_trans_time', 'amt', 'lat', 'long', 'city_pop', 'merch_lat', 'merch_long', 'dob']"
   ]
  },
  {
   "cell_type": "code",
   "execution_count": 16,
   "id": "95c28e9f-1f78-4de8-b670-04aa886a7d31",
   "metadata": {},
   "outputs": [],
   "source": [
    "preprocessor = ColumnTransformer(\n",
    "    transformers=[\n",
    "        ('num', StandardScaler(), numeric_features),\n",
    "        ('cat', OneHotEncoder(handle_unknown='ignore'), categorical_features)\n",
    "    ])"
   ]
  },
  {
   "cell_type": "code",
   "execution_count": 22,
   "id": "86d2e80e-7156-4305-8b98-d1f44660a7e1",
   "metadata": {},
   "outputs": [],
   "source": [
    "pipeline_lr = Pipeline(steps=[('preprocessor', preprocessor),\n",
    "                                ('classifier', LogisticRegression(max_iter=50))])\n",
    "\n",
    "pipeline_dt = Pipeline(steps=[('preprocessor', preprocessor),\n",
    "                                ('classifier', DecisionTreeClassifier(max_depth=5, random_state=42))])\n",
    "\n",
    "pipeline_rf = Pipeline(steps=[('preprocessor', preprocessor),\n",
    "                                ('classifier', RandomForestClassifier(n_estimators=10, max_depth=5, random_state=42, n_jobs=-1))])"
   ]
  },
  {
   "cell_type": "code",
   "execution_count": 24,
   "id": "2884cbdc-1848-4eb3-a7c2-bf14b21eae19",
   "metadata": {},
   "outputs": [],
   "source": [
    "pipeline_lr.fit(X_train, y_train)\n",
    "y_pred_lr = pipeline_lr.predict(X_test)"
   ]
  },
  {
   "cell_type": "code",
   "execution_count": 26,
   "id": "154594c1-07ed-4a96-9566-c694bdf4a095",
   "metadata": {},
   "outputs": [],
   "source": [
    "pipeline_dt.fit(X_train, y_train)\n",
    "y_pred_dt = pipeline_dt.predict(X_test)"
   ]
  },
  {
   "cell_type": "code",
   "execution_count": 28,
   "id": "4b7f562f-43c4-4be5-bc82-ccce8937b730",
   "metadata": {},
   "outputs": [],
   "source": [
    "pipeline_rf.fit(X_train, y_train)\n",
    "y_pred_rf = pipeline_rf.predict(X_test)"
   ]
  },
  {
   "cell_type": "code",
   "execution_count": 30,
   "id": "b53b32eb-37ad-4903-9c0b-aa021905f97d",
   "metadata": {},
   "outputs": [
    {
     "name": "stdout",
     "output_type": "stream",
     "text": [
      "Logistic Regression Accuracy: 0.9956128906875598\n",
      "Decision Tree Accuracy: 0.9972000237530119\n",
      "Random Forest Accuracy: 0.9961401355721147\n"
     ]
    }
   ],
   "source": [
    "print(f\"Logistic Regression Accuracy: {accuracy_score(y_test, y_pred_lr)}\")\n",
    "print(f\"Decision Tree Accuracy: {accuracy_score(y_test, y_pred_dt)}\")\n",
    "print(f\"Random Forest Accuracy: {accuracy_score(y_test, y_pred_rf)}\")"
   ]
  },
  {
   "cell_type": "code",
   "execution_count": 32,
   "id": "8188fee4-26c8-4e32-bfbe-e83e9b44b9aa",
   "metadata": {},
   "outputs": [],
   "source": [
    "conf_matrix_lr = confusion_matrix(y_test, y_pred_lr)\n",
    "conf_matrix_dt = confusion_matrix(y_test, y_pred_dt)\n",
    "conf_matrix_rf = confusion_matrix(y_test, y_pred_rf)"
   ]
  },
  {
   "cell_type": "code",
   "execution_count": 34,
   "id": "e40b4132-f5ed-40be-9c4b-d30ad9919700",
   "metadata": {},
   "outputs": [
    {
     "data": {
      "image/png": "[encoded data removed]",
      "text/plain": [
       "<Figure size 1800x600 with 3 Axes>"
      ]
     },
     "metadata": {},
     "output_type": "display_data"
    }
   ],
   "source": [
    "fig, axes = plt.subplots(1, 3, figsize=(18, 6))\n",
    "\n",
    "sns.heatmap(conf_matrix_lr, annot=True, fmt='d', ax=axes[0], cmap=\"Blues\", cbar=False)\n",
    "axes[0].set_title('Logistic Regression Confusion Matrix')\n",
    "axes[0].set_xlabel('Predicted')\n",
    "axes[0].set_ylabel('True')\n",
    "\n",
    "sns.heatmap(conf_matrix_dt, annot=True, fmt='d', ax=axes[1], cmap=\"Blues\", cbar=False)\n",
    "axes[1].set_title('Decision Tree Confusion Matrix')\n",
    "axes[1].set_xlabel('Predicted')\n",
    "axes[1].set_ylabel('True')\n",
    "\n",
    "sns.heatmap(conf_matrix_rf, annot=True, fmt='d', ax=axes[2], cmap=\"Blues\", cbar=False)\n",
    "axes[2].set_title('Random Forest Confusion Matrix')\n",
    "axes[2].set_xlabel('Predicted')\n",
    "axes[2].set_ylabel('True')\n",
    "\n",
    "plt.tight_layout()\n",
    "plt.show()"
   ]
  },
  {
   "cell_type": "code",
   "execution_count": 36,
   "id": "1d51eda6-6246-4b70-ae44-50448b132089",
   "metadata": {},
   "outputs": [
    {
     "name": "stdout",
     "output_type": "stream",
     "text": [
      "\n",
      "Logistic Regression Classification Report:\n"
     ]
    },
    {
     "ename": "NameError",
     "evalue": "name 'classification_report' is not defined",
     "output_type": "error",
     "traceback": [
      "\u001b[1;31m---------------------------------------------------------------------------\u001b[0m",
      "\u001b[1;31mNameError\u001b[0m                                 Traceback (most recent call last)",
      "Cell \u001b[1;32mIn[36], line 2\u001b[0m\n\u001b[0;32m      1\u001b[0m \u001b[38;5;28mprint\u001b[39m(\u001b[38;5;124m\"\u001b[39m\u001b[38;5;130;01m\\n\u001b[39;00m\u001b[38;5;124mLogistic Regression Classification Report:\u001b[39m\u001b[38;5;124m\"\u001b[39m)\n\u001b[1;32m----> 2\u001b[0m \u001b[38;5;28mprint\u001b[39m(\u001b[43mclassification_report\u001b[49m(y_test, y_pred_lr))\n\u001b[0;32m      4\u001b[0m \u001b[38;5;28mprint\u001b[39m(\u001b[38;5;124m\"\u001b[39m\u001b[38;5;130;01m\\n\u001b[39;00m\u001b[38;5;124mDecision Tree Classification Report:\u001b[39m\u001b[38;5;124m\"\u001b[39m)\n\u001b[0;32m      5\u001b[0m \u001b[38;5;28mprint\u001b[39m(classification_report(y_test, y_pred_dt))\n",
      "\u001b[1;31mNameError\u001b[0m: name 'classification_report' is not defined"
     ]
    }
   ],
   "source": [
    "print(\"\\nLogistic Regression Classification Report:\")\n",
    "print(classification_report(y_test, y_pred_lr))\n",
    "\n",
    "print(\"\\nDecision Tree Classification Report:\")\n",
    "print(classification_report(y_test, y_pred_dt))\n",
    "\n",
    "print(\"\\nRandom Forest Classification Report:\")\n",
    "print(classification_report(y_test, y_pred_rf))"
   ]
  },
  {
   "cell_type": "code",
   "execution_count": null,
   "id": "95562023-982a-4061-9dea-39a79ce76f9f",
   "metadata": {},
   "outputs": [],
   "source": []
  }
 ],
 "metadata": {
  "kernelspec": {
   "display_name": "Python 3 (ipykernel)",
   "language": "python",
   "name": "python3"
  },
  "language_info": {
   "codemirror_mode": {
    "name": "ipython",
    "version": 3
   },
   "file_extension": ".py",
   "mimetype": "text/x-python",
   "name": "python",
   "nbconvert_exporter": "python",
   "pygments_lexer": "ipython3",
   "version": "3.12.4"
  }
 },
 "nbformat": 4,
 "nbformat_minor": 5
}
